{
  "nbformat": 4,
  "nbformat_minor": 0,
  "metadata": {
    "colab": {
      "provenance": [],
      "authorship_tag": "ABX9TyMZmNA0UkABqzJrazxW9+rJ",
      "include_colab_link": true
    },
    "kernelspec": {
      "name": "python3",
      "display_name": "Python 3"
    },
    "language_info": {
      "name": "python"
    }
  },
  "cells": [
    {
      "cell_type": "markdown",
      "metadata": {
        "id": "view-in-github",
        "colab_type": "text"
      },
      "source": [
        "<a href=\"https://colab.research.google.com/github/aurid07/datasciencecoursera/blob/master/gb2.ipynb\" target=\"_parent\"><img src=\"https://colab.research.google.com/assets/colab-badge.svg\" alt=\"Open In Colab\"/></a>"
      ]
    },
    {
      "cell_type": "code",
      "execution_count": null,
      "metadata": {
        "id": "Wnqf1Wj3QfsK"
      },
      "outputs": [],
      "source": [
        "import pandas as pd\n",
        "from sklearn.preprocessing import LabelEncoder\n",
        "from sklearn.model_selection import train_test_split\n",
        "\n",
        "# Assuming your original DataFrame is named 'data'\n",
        "data = pd.read_csv(\"/content/02-14-2018.csv\")\n",
        "\n",
        "# Selecting the first 10 columns as features\n",
        "x = data.iloc[:, :10]\n",
        "\n",
        "# Selecting the last column ('Label') as the target variable\n",
        "y = data['Label']\n",
        "\n",
        "# Label encoding for categorical target variable if needed\n",
        "enc = LabelEncoder()\n",
        "y = enc.fit_transform(y)\n",
        "\n",
        "# Splitting the dataset into training and testing sets\n",
        "x_train, x_test, y_train, y_test = train_test_split(x, y, test_size=0.3, random_state=10)\n"
      ]
    },
    {
      "cell_type": "code",
      "source": [
        "from sklearn.preprocessing import LabelEncoder\n",
        "\n",
        "# Assuming 'y_train' and 'y_test' are your target variables\n",
        "enc = LabelEncoder()\n",
        "y_train_encoded = enc.fit_transform(y_train)\n",
        "y_test_encoded = enc.transform(y_test)\n"
      ],
      "metadata": {
        "id": "T1TzaxLTRdHz"
      },
      "execution_count": null,
      "outputs": []
    },
    {
      "cell_type": "code",
      "source": [
        "import pandas as pd\n",
        "\n",
        "# Assuming 'Timestamp' is the name of the column\n",
        "x_train['Timestamp'] = pd.to_datetime(x_train['Timestamp'], format='%d/%m/%Y %H:%M:%S')\n",
        "x_train['Timestamp'] = x_train['Timestamp'].astype(int) / 10**9  # Convert to Unix timestamp"
      ],
      "metadata": {
        "id": "_wgCXqVwRezb"
      },
      "execution_count": null,
      "outputs": []
    },
    {
      "cell_type": "code",
      "source": [
        "# Drop 'Timestamp' column\n",
        "x_train_no_timestamp = x_train.drop(columns=['Timestamp'])"
      ],
      "metadata": {
        "id": "2aPXmXl7RjRq"
      },
      "execution_count": null,
      "outputs": []
    },
    {
      "cell_type": "code",
      "source": [
        "import pandas as pd\n",
        "from sklearn.preprocessing import LabelEncoder\n",
        "from sklearn.model_selection import train_test_split\n",
        "from sklearn.ensemble import GradientBoostingClassifier\n",
        "from sklearn.metrics import accuracy_score\n",
        "\n",
        "# Assuming 'data' is your DataFrame\n",
        "# Selecting the first 10 columns as features\n",
        "x = data.iloc[:, :10]\n",
        "\n",
        "# Convert 'Timestamp' to Unix timestamp\n",
        "x['Timestamp'] = pd.to_datetime(x['Timestamp'], format='%d/%m/%Y %H:%M:%S')\n",
        "x['Timestamp'] = x['Timestamp'].astype(int) / 10**9  # Convert to Unix timestamp\n",
        "\n",
        "# Selecting the last column ('Label') as the target variable\n",
        "y = data['Label']\n",
        "\n",
        "# Label encoding for categorical target variable if needed\n",
        "enc = LabelEncoder()\n",
        "y = enc.fit_transform(y)\n",
        "\n",
        "# Splitting the dataset into training and testing sets\n",
        "x_train, x_test, y_train, y_test = train_test_split(x, y, test_size=0.3, random_state=10)\n",
        "\n",
        "# Create a Gradient Boosting classifier\n",
        "gb_model = GradientBoostingClassifier()\n",
        "\n",
        "# Fit the model on the training data\n",
        "gb_model.fit(x_train, y_train)\n",
        "\n",
        "# Make predictions on the test set\n",
        "y_pred = gb_model.predict(x_test)\n",
        "\n",
        "# Inverse transform label encoding if needed\n",
        "y_test_original = enc.inverse_transform(y_test)\n",
        "y_pred_original = enc.inverse_transform(y_pred)\n",
        "\n",
        "# Evaluate the accuracy\n",
        "accuracy = accuracy_score(y_test, y_pred)\n",
        "print(f\"Accuracy: {accuracy}\")\n",
        "\n"
      ],
      "metadata": {
        "colab": {
          "base_uri": "https://localhost:8080/"
        },
        "id": "SJjfyRgGR6Mj",
        "outputId": "994b41bf-ccf5-4e08-8dad-2f9a3c3d65b4"
      },
      "execution_count": null,
      "outputs": [
        {
          "output_type": "stream",
          "name": "stdout",
          "text": [
            "Accuracy: 1.0\n"
          ]
        }
      ]
    },
    {
      "cell_type": "code",
      "source": [
        "import matplotlib.pyplot as plt\n",
        "accuracy = 0.9998\n",
        "accuracy_nb = 0.98\n",
        "accuracy_rf = 1.00\n",
        "accuracy_dt = 1.00\n",
        "accuracy_svm = 1.00\n",
        "accuracy_cb = 0.999\n",
        "accuracy_gb = 1.00\n",
        "# Replace these with the actual names and accuracy of your models\n",
        "model_names = ['KNN', 'Naive Bayes', 'Random Forest', 'Decision Tree', 'SVM', 'catboost', 'Gradient boost']\n",
        "accuracies = [accuracy, accuracy_nb, accuracy_rf, accuracy_dt, accuracy_svm, accuracy_cb, accuracy_gb]\n",
        "# Creating the bar plot\n",
        "plt.figure(figsize=(10, 6))\n",
        "plt.bar(model_names, accuracies, color='skyblue')\n",
        "plt.title('Comparison of Model Accuracies')\n",
        "plt.xlabel('Models')\n",
        "plt.ylabel('Accuracy')\n",
        "plt.ylim([min(accuracies) - 0.05, 1])  # Adjust y-axis to show from the lowest accuracy - 5% up to 100%\n",
        "plt.show()"
      ],
      "metadata": {
        "colab": {
          "base_uri": "https://localhost:8080/",
          "height": 564
        },
        "id": "r7Cd04sHGSao",
        "outputId": "c7c08d80-3eaa-4f8d-c4ec-69ca2954a6fd"
      },
      "execution_count": null,
      "outputs": [
        {
          "output_type": "display_data",
          "data": {
            "text/plain": [
              "<Figure size 1000x600 with 1 Axes>"
            ],
            "image/png": "[encoded data removed]"
          },
          "metadata": {}
        }
      ]
    }
  ]
}